{
  "nbformat": 4,
  "nbformat_minor": 0,
  "metadata": {
    "colab": {
      "name": "CNN_FMNIST_Basic.ipynb",
      "provenance": [],
      "authorship_tag": "ABX9TyMepZ9gkSWaEQTDD/8j3WpN",
      "include_colab_link": true
    },
    "kernelspec": {
      "name": "python3",
      "display_name": "Python 3"
    }
  },
  "cells": [
    {
      "cell_type": "markdown",
      "metadata": {
        "id": "view-in-github",
        "colab_type": "text"
      },
      "source": [
        "<a href=\"https://colab.research.google.com/github/aravind309/Tensorflow-AI/blob/master/CNN_FMNIST_Basic.ipynb\" target=\"_parent\"><img src=\"https://colab.research.google.com/assets/colab-badge.svg\" alt=\"Open In Colab\"/></a>"
      ]
    },
    {
      "cell_type": "code",
      "metadata": {
        "id": "b6QTiZvaV04k"
      },
      "source": [
        "import tensorflow as tf\r\n",
        "import pandas as pd\r\n",
        "import numpy as np\r\n",
        "from tensorflow.keras.models import Sequential\r\n",
        "from tensorflow.keras.layers import Dense,Flatten,Activation"
      ],
      "execution_count": 1,
      "outputs": []
    },
    {
      "cell_type": "code",
      "metadata": {
        "id": "INci_g2oV7vl"
      },
      "source": [
        "fmnist = tf.keras.datasets.fashion_mnist"
      ],
      "execution_count": 2,
      "outputs": []
    },
    {
      "cell_type": "code",
      "metadata": {
        "id": "Ddq-cjy6V_08"
      },
      "source": [
        "(training_images, training_labels), (test_images, test_labels) = fmnist.load_data()"
      ],
      "execution_count": 3,
      "outputs": []
    },
    {
      "cell_type": "code",
      "metadata": {
        "id": "yc6We1Q6WLpH"
      },
      "source": [
        "training_images=training_images.reshape(60000, 28, 28, 1)\r\n",
        "training_images=training_images / 255.0\r\n",
        "test_images = test_images.reshape(10000, 28, 28, 1)\r\n",
        "test_images=test_images/255.0"
      ],
      "execution_count": 4,
      "outputs": []
    },
    {
      "cell_type": "code",
      "metadata": {
        "id": "_mAXQdh31JVS"
      },
      "source": [
        "model = tf.keras.models.Sequential([\r\n",
        "  tf.keras.layers.Conv2D(64, (3,3), activation='relu', input_shape=(28, 28, 1)),\r\n",
        "  tf.keras.layers.MaxPooling2D(2, 2),\r\n",
        "  tf.keras.layers.Conv2D(64, (3,3), activation='relu'),\r\n",
        "  tf.keras.layers.MaxPooling2D(2,2),\r\n",
        "  tf.keras.layers.Flatten(),\r\n",
        "  tf.keras.layers.Dense(128, activation='relu'),\r\n",
        "  tf.keras.layers.Dense(10, activation='softmax')\r\n",
        "])"
      ],
      "execution_count": 5,
      "outputs": []
    },
    {
      "cell_type": "code",
      "metadata": {
        "id": "gbQVcjgSIpqg"
      },
      "source": [
        "class myCallback(tf.keras.callbacks.Callback):\r\n",
        "  def on_epoch_end(self,epoch,logs={}):\r\n",
        "    print(logs)\r\n",
        "    if (logs.get('loss')<0.25):\r\n",
        "      print(\"\\n Cancelling training because loss is low\")\r\n",
        "      self.model.stop_training = True"
      ],
      "execution_count": 6,
      "outputs": []
    },
    {
      "cell_type": "code",
      "metadata": {
        "id": "MfcWv9UhXZLf",
        "colab": {
          "base_uri": "https://localhost:8080/"
        },
        "outputId": "565f1230-5bb6-4183-8cc8-7c3da238556f"
      },
      "source": [
        "callback = myCallback()\r\n",
        "model.compile(optimizer=\"adam\",loss =\"sparse_categorical_crossentropy\", metrics=['accuracy'])\r\n",
        "model.fit(training_images, training_labels,epochs=5,validation_data=(test_images, test_labels),callbacks=[callback])"
      ],
      "execution_count": 7,
      "outputs": [
        {
          "output_type": "stream",
          "text": [
            "Epoch 1/5\n",
            "1875/1875 [==============================] - 89s 47ms/step - loss: 0.6122 - accuracy: 0.7790 - val_loss: 0.3366 - val_accuracy: 0.8804\n",
            "{'loss': 0.4410949945449829, 'accuracy': 0.839733362197876, 'val_loss': 0.3366246223449707, 'val_accuracy': 0.8804000020027161}\n",
            "Epoch 2/5\n",
            "1875/1875 [==============================] - 87s 46ms/step - loss: 0.2980 - accuracy: 0.8919 - val_loss: 0.2876 - val_accuracy: 0.8948\n",
            "{'loss': 0.2915399670600891, 'accuracy': 0.8932499885559082, 'val_loss': 0.287596732378006, 'val_accuracy': 0.8948000073432922}\n",
            "Epoch 3/5\n",
            "1875/1875 [==============================] - 86s 46ms/step - loss: 0.2498 - accuracy: 0.9074 - val_loss: 0.2741 - val_accuracy: 0.9025\n",
            "{'loss': 0.2475394457578659, 'accuracy': 0.9088333249092102, 'val_loss': 0.27409201860427856, 'val_accuracy': 0.9024999737739563}\n",
            "\n",
            " Cancelling training because loss is low\n"
          ],
          "name": "stdout"
        },
        {
          "output_type": "execute_result",
          "data": {
            "text/plain": [
              "<tensorflow.python.keras.callbacks.History at 0x7f812fa97d68>"
            ]
          },
          "metadata": {
            "tags": []
          },
          "execution_count": 7
        }
      ]
    },
    {
      "cell_type": "code",
      "metadata": {
        "colab": {
          "base_uri": "https://localhost:8080/",
          "height": 282
        },
        "id": "GOURhwtUfQGU",
        "outputId": "5484f055-2a9a-406c-8bdd-b66d7be365e6"
      },
      "source": [
        "model_loss = pd.DataFrame(model.history.history)\r\n",
        "model_loss.plot()"
      ],
      "execution_count": 8,
      "outputs": [
        {
          "output_type": "execute_result",
          "data": {
            "text/plain": [
              "<matplotlib.axes._subplots.AxesSubplot at 0x7f8128a1f630>"
            ]
          },
          "metadata": {
            "tags": []
          },
          "execution_count": 8
        },
        {
          "output_type": "display_data",
          "data": {
            "image/png": "[encoded data removed]",
            "text/plain": [
              "<Figure size 432x288 with 1 Axes>"
            ]
          },
          "metadata": {
            "tags": [],
            "needs_background": "light"
          }
        }
      ]
    },
    {
      "cell_type": "code",
      "metadata": {
        "colab": {
          "base_uri": "https://localhost:8080/"
        },
        "id": "237gM26eXu_g",
        "outputId": "54d8ad22-826b-4121-8dda-90a786bbc13d"
      },
      "source": [
        "model.evaluate(test_images, test_labels)"
      ],
      "execution_count": 9,
      "outputs": [
        {
          "output_type": "stream",
          "text": [
            "313/313 [==============================] - 4s 13ms/step - loss: 0.2741 - accuracy: 0.9025\n"
          ],
          "name": "stdout"
        },
        {
          "output_type": "execute_result",
          "data": {
            "text/plain": [
              "[0.27409201860427856, 0.9024999737739563]"
            ]
          },
          "metadata": {
            "tags": []
          },
          "execution_count": 9
        }
      ]
    }
  ]
}